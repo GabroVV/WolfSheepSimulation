{
  "cells": [
    {
      "cell_type": "markdown",
      "source": "## Zadanie 3 - analiza statystyczna dla zbioru danych abalone\n**Gabriel Nowak 216848  \nSzymon Rutkowski**",
      "metadata": {
        "pycharm": {
          "metadata": false
        }
      }
    },
    {
      "cell_type": "code",
      "execution_count": 41,
      "outputs": [],
      "source": "import pandas as pd\nfrom IPython.display import display, HTML\nparamnames\u003d[\u0027Płeć\u0027, \u0027Długość [mm]\u0027, \u0027Średnica [mm]\u0027, \u0027Wysokość [mm]\u0027, \u0027Masa całości [g]\u0027, \u0027Masa mięsa [g]\u0027\n        , \u0027Masa wnętrzności [g]\u0027,\u0027Masa skorupy [g]\u0027, \u0027Liczba kręgów\u0027]\nquantitativeData \u003d pd.read_csv(\u0027abalone.data\u0027,names\u003dparamnames, delimiter\u003d\u0027,\u0027)\nqualitativeData \u003d pd.DataFrame()\nqualitativeData[\u0027Płeć\u0027] \u003d quantitativeData[\u0027Płeć\u0027]\nquantitativeData \u003d quantitativeData.drop(\u0027Płeć\u0027,1)\n",
      "metadata": {
        "pycharm": {
          "metadata": false,
          "name": "#%%\n",
          "is_executing": false
        }
      }
    },
    {
      "cell_type": "markdown",
      "source": "**Tabela miar statystycznych dla cech ilościowych**",
      "metadata": {
        "pycharm": {
          "metadata": false,
          "name": "#%% md\n"
        }
      }
    },
    {
      "cell_type": "code",
      "source": "import pandas as pd\n\ndataframe \u003d pd.DataFrame(quantitativeData.mean(), columns\u003d[\u0027Średnia\u0027])\ndataframe[\u0027Odchylenie standardowe\u0027] \u003d quantitativeData.std()\ndataframe[\u0027Mediana\u0027] \u003d quantitativeData.median()\ndataframe[\u0027Minimum\u0027] \u003d quantitativeData.min().round(5)\ndataframe[\u0027Maksimum\u0027] \u003d quantitativeData.max()\ndisplay(dataframe)",
      "metadata": {
        "pycharm": {
          "metadata": false,
          "name": "#%%\n",
          "is_executing": false
        }
      },
      "execution_count": 42,
      "outputs": [
        {
          "data": {
            "text/plain": "                       Średnia  Odchylenie standardowe  Mediana  Minimum  \\\nDługość [mm]          0.523992                0.120093   0.5450   0.0750   \nŚrednica [mm]         0.407881                0.099240   0.4250   0.0550   \nWysokość [mm]         0.139516                0.041827   0.1400   0.0000   \nMasa całości [g]      0.828742                0.490389   0.7995   0.0020   \nMasa mięsa [g]        0.359367                0.221963   0.3360   0.0010   \nMasa wnętrzności [g]  0.180594                0.109614   0.1710   0.0005   \nMasa skorupy [g]      0.238831                0.139203   0.2340   0.0015   \nLiczba kręgów         9.933684                3.224169   9.0000   1.0000   \n\n                      Maksimum  \nDługość [mm]            0.8150  \nŚrednica [mm]           0.6500  \nWysokość [mm]           1.1300  \nMasa całości [g]        2.8255  \nMasa mięsa [g]          1.4880  \nMasa wnętrzności [g]    0.7600  \nMasa skorupy [g]        1.0050  \nLiczba kręgów          29.0000  ",
            "text/html": "\u003cdiv\u003e\n\u003cstyle scoped\u003e\n    .dataframe tbody tr th:only-of-type {\n        vertical-align: middle;\n    }\n\n    .dataframe tbody tr th {\n        vertical-align: top;\n    }\n\n    .dataframe thead th {\n        text-align: right;\n    }\n\u003c/style\u003e\n\u003ctable border\u003d\"1\" class\u003d\"dataframe\"\u003e\n  \u003cthead\u003e\n    \u003ctr style\u003d\"text-align: right;\"\u003e\n      \u003cth\u003e\u003c/th\u003e\n      \u003cth\u003eŚrednia\u003c/th\u003e\n      \u003cth\u003eOdchylenie standardowe\u003c/th\u003e\n      \u003cth\u003eMediana\u003c/th\u003e\n      \u003cth\u003eMinimum\u003c/th\u003e\n      \u003cth\u003eMaksimum\u003c/th\u003e\n    \u003c/tr\u003e\n  \u003c/thead\u003e\n  \u003ctbody\u003e\n    \u003ctr\u003e\n      \u003cth\u003eDługość [mm]\u003c/th\u003e\n      \u003ctd\u003e0.523992\u003c/td\u003e\n      \u003ctd\u003e0.120093\u003c/td\u003e\n      \u003ctd\u003e0.5450\u003c/td\u003e\n      \u003ctd\u003e0.0750\u003c/td\u003e\n      \u003ctd\u003e0.8150\u003c/td\u003e\n    \u003c/tr\u003e\n    \u003ctr\u003e\n      \u003cth\u003eŚrednica [mm]\u003c/th\u003e\n      \u003ctd\u003e0.407881\u003c/td\u003e\n      \u003ctd\u003e0.099240\u003c/td\u003e\n      \u003ctd\u003e0.4250\u003c/td\u003e\n      \u003ctd\u003e0.0550\u003c/td\u003e\n      \u003ctd\u003e0.6500\u003c/td\u003e\n    \u003c/tr\u003e\n    \u003ctr\u003e\n      \u003cth\u003eWysokość [mm]\u003c/th\u003e\n      \u003ctd\u003e0.139516\u003c/td\u003e\n      \u003ctd\u003e0.041827\u003c/td\u003e\n      \u003ctd\u003e0.1400\u003c/td\u003e\n      \u003ctd\u003e0.0000\u003c/td\u003e\n      \u003ctd\u003e1.1300\u003c/td\u003e\n    \u003c/tr\u003e\n    \u003ctr\u003e\n      \u003cth\u003eMasa całości [g]\u003c/th\u003e\n      \u003ctd\u003e0.828742\u003c/td\u003e\n      \u003ctd\u003e0.490389\u003c/td\u003e\n      \u003ctd\u003e0.7995\u003c/td\u003e\n      \u003ctd\u003e0.0020\u003c/td\u003e\n      \u003ctd\u003e2.8255\u003c/td\u003e\n    \u003c/tr\u003e\n    \u003ctr\u003e\n      \u003cth\u003eMasa mięsa [g]\u003c/th\u003e\n      \u003ctd\u003e0.359367\u003c/td\u003e\n      \u003ctd\u003e0.221963\u003c/td\u003e\n      \u003ctd\u003e0.3360\u003c/td\u003e\n      \u003ctd\u003e0.0010\u003c/td\u003e\n      \u003ctd\u003e1.4880\u003c/td\u003e\n    \u003c/tr\u003e\n    \u003ctr\u003e\n      \u003cth\u003eMasa wnętrzności [g]\u003c/th\u003e\n      \u003ctd\u003e0.180594\u003c/td\u003e\n      \u003ctd\u003e0.109614\u003c/td\u003e\n      \u003ctd\u003e0.1710\u003c/td\u003e\n      \u003ctd\u003e0.0005\u003c/td\u003e\n      \u003ctd\u003e0.7600\u003c/td\u003e\n    \u003c/tr\u003e\n    \u003ctr\u003e\n      \u003cth\u003eMasa skorupy [g]\u003c/th\u003e\n      \u003ctd\u003e0.238831\u003c/td\u003e\n      \u003ctd\u003e0.139203\u003c/td\u003e\n      \u003ctd\u003e0.2340\u003c/td\u003e\n      \u003ctd\u003e0.0015\u003c/td\u003e\n      \u003ctd\u003e1.0050\u003c/td\u003e\n    \u003c/tr\u003e\n    \u003ctr\u003e\n      \u003cth\u003eLiczba kręgów\u003c/th\u003e\n      \u003ctd\u003e9.933684\u003c/td\u003e\n      \u003ctd\u003e3.224169\u003c/td\u003e\n      \u003ctd\u003e9.0000\u003c/td\u003e\n      \u003ctd\u003e1.0000\u003c/td\u003e\n      \u003ctd\u003e29.0000\u003c/td\u003e\n    \u003c/tr\u003e\n  \u003c/tbody\u003e\n\u003c/table\u003e\n\u003c/div\u003e"
          },
          "metadata": {},
          "output_type": "display_data"
        }
      ]
    },
    {
      "cell_type": "code",
      "execution_count": 21,
      "outputs": [],
      "source": "\n",
      "metadata": {
        "pycharm": {
          "metadata": false,
          "name": "#%%\n",
          "is_executing": false
        }
      }
    }
  ],
  "metadata": {
    "language_info": {
      "codemirror_mode": {
        "name": "ipython",
        "version": 2
      },
      "file_extension": ".py",
      "mimetype": "text/x-python",
      "name": "python",
      "nbconvert_exporter": "python",
      "pygments_lexer": "ipython2",
      "version": "2.7.6"
    },
    "kernelspec": {
      "name": "python3",
      "language": "python",
      "display_name": "Python 3"
    },
    "stem_cell": {
      "cell_type": "raw",
      "source": "",
      "metadata": {
        "pycharm": {
          "metadata": false
        }
      }
    }
  },
  "nbformat": 4,
  "nbformat_minor": 0
}