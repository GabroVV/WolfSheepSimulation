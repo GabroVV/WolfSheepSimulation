{
 "cells": [
  {
   "cell_type": "markdown",
   "source": [
    "## Zadanie 3 - analiza statystyczna dla zbioru danych abalone\n",
    "**Gabriel Nowak 216848  \n",
    "Szymon Rutkowski 216881**"
   ],
   "metadata": {
    "pycharm": {
     "metadata": false
    }
   }
  },
  {
   "cell_type": "markdown",
   "source": [
    "**Tabela miar statystycznych dla cech jakościowych płci**"
   ],
   "metadata": {
    "collapsed": false
   }
  },
  {
   "cell_type": "code",
   "execution_count": 15,
   "outputs": [
    {
     "data": {
      "text/plain": "  Dominanta  Liczebność dominanty  Częstość\n0         M                  1528  0.365813",
      "text/html": "<div>\n<style scoped>\n    .dataframe tbody tr th:only-of-type {\n        vertical-align: middle;\n    }\n\n    .dataframe tbody tr th {\n        vertical-align: top;\n    }\n\n    .dataframe thead th {\n        text-align: right;\n    }\n</style>\n<table border=\"1\" class=\"dataframe\">\n  <thead>\n    <tr style=\"text-align: right;\">\n      <th></th>\n      <th>Dominanta</th>\n      <th>Liczebność dominanty</th>\n      <th>Częstość</th>\n    </tr>\n  </thead>\n  <tbody>\n    <tr>\n      <th>0</th>\n      <td>M</td>\n      <td>1528</td>\n      <td>0.365813</td>\n    </tr>\n  </tbody>\n</table>\n</div>"
     },
     "metadata": {},
     "output_type": "display_data"
    }
   ],
   "source": [
    "import pandas as pd\n",
    "from IPython.display import display, HTML\n",
    "paramnames=['Płeć', 'Długość [mm]', 'Średnica [mm]', 'Wysokość [mm]', 'Masa całości [g]', 'Masa mięsa [g]'\n",
    "        , 'Masa wnętrzności [g]','Masa skorupy [g]', 'Liczba kręgów']\n",
    "quantitativeData = pd.read_csv('abalone.data',names=paramnames, delimiter=',')\n",
    "qualitativeData = pd.DataFrame()\n",
    "qualitativeData['Płeć'] = quantitativeData['Płeć']\n",
    "quantitativeData = quantitativeData.drop('Płeć',1)\n",
    "qualitativeDataFinal = pd.DataFrame()\n",
    "qualitativeDataFinal['Dominanta'] = qualitativeData.Płeć.mode()\n",
    "qualitativeDataFinal['Liczebność dominanty'] = (qualitativeData.Płeć == 'M').sum()\n",
    "qualitativeDataFinal['Częstość'] = qualitativeDataFinal['Liczebność dominanty'] /qualitativeData.Płeć.count()\n",
    "qualitativeDataFinal.rename_axis(index={'0':'Płec'})\n",
    "display(qualitativeDataFinal)"
   ],
   "metadata": {
    "pycharm": {
     "metadata": false,
     "name": "#%%\n",
     "is_executing": false
    }
   }
  },
  {
   "cell_type": "markdown",
   "source": "**Tabela miar statystycznych dla cech ilościowych**",
   "metadata": {
    "pycharm": {
     "metadata": false,
     "name": "#%% md\n"
    }
   }
  },
  {
   "cell_type": "code",
   "source": "dataframe = pd.DataFrame(quantitativeData.mean().round(3), columns=['Średnia'])\ndataframe['Odchylenie standardowe'] = quantitativeData.std().round(3)\ndataframe['Mediana'] = quantitativeData.median().round(3)\ndataframe['Minimum'] = quantitativeData.min().round(5).astype(object)\ndataframe['Maksimum'] = quantitativeData.max().round(decimals=3).astype(object)\ndisplay(dataframe)",
   "metadata": {
    "pycharm": {
     "metadata": false,
     "name": "#%%\n",
     "is_executing": false
    }
   },
   "execution_count": 4,
   "outputs": [
    {
     "data": {
      "text/plain": "                      Średnia  Odchylenie standardowe  Mediana Minimum  \\\nDługość [mm]            0.524                   0.120    0.545   0.075   \nŚrednica [mm]           0.408                   0.099    0.425   0.055   \nWysokość [mm]           0.140                   0.042    0.140       0   \nMasa całości [g]        0.829                   0.490    0.800   0.002   \nMasa mięsa [g]          0.359                   0.222    0.336   0.001   \nMasa wnętrzności [g]    0.181                   0.110    0.171  0.0005   \nMasa skorupy [g]        0.239                   0.139    0.234  0.0015   \nLiczba kręgów           9.934                   3.224    9.000       1   \n\n                     Maksimum  \nDługość [mm]            0.815  \nŚrednica [mm]            0.65  \nWysokość [mm]            1.13  \nMasa całości [g]        2.826  \nMasa mięsa [g]          1.488  \nMasa wnętrzności [g]     0.76  \nMasa skorupy [g]        1.005  \nLiczba kręgów              29  ",
      "text/html": "<div>\n<style scoped>\n    .dataframe tbody tr th:only-of-type {\n        vertical-align: middle;\n    }\n\n    .dataframe tbody tr th {\n        vertical-align: top;\n    }\n\n    .dataframe thead th {\n        text-align: right;\n    }\n</style>\n<table border=\"1\" class=\"dataframe\">\n  <thead>\n    <tr style=\"text-align: right;\">\n      <th></th>\n      <th>Średnia</th>\n      <th>Odchylenie standardowe</th>\n      <th>Mediana</th>\n      <th>Minimum</th>\n      <th>Maksimum</th>\n    </tr>\n  </thead>\n  <tbody>\n    <tr>\n      <th>Długość [mm]</th>\n      <td>0.524</td>\n      <td>0.120</td>\n      <td>0.545</td>\n      <td>0.075</td>\n      <td>0.815</td>\n    </tr>\n    <tr>\n      <th>Średnica [mm]</th>\n      <td>0.408</td>\n      <td>0.099</td>\n      <td>0.425</td>\n      <td>0.055</td>\n      <td>0.65</td>\n    </tr>\n    <tr>\n      <th>Wysokość [mm]</th>\n      <td>0.140</td>\n      <td>0.042</td>\n      <td>0.140</td>\n      <td>0</td>\n      <td>1.13</td>\n    </tr>\n    <tr>\n      <th>Masa całości [g]</th>\n      <td>0.829</td>\n      <td>0.490</td>\n      <td>0.800</td>\n      <td>0.002</td>\n      <td>2.826</td>\n    </tr>\n    <tr>\n      <th>Masa mięsa [g]</th>\n      <td>0.359</td>\n      <td>0.222</td>\n      <td>0.336</td>\n      <td>0.001</td>\n      <td>1.488</td>\n    </tr>\n    <tr>\n      <th>Masa wnętrzności [g]</th>\n      <td>0.181</td>\n      <td>0.110</td>\n      <td>0.171</td>\n      <td>0.0005</td>\n      <td>0.76</td>\n    </tr>\n    <tr>\n      <th>Masa skorupy [g]</th>\n      <td>0.239</td>\n      <td>0.139</td>\n      <td>0.234</td>\n      <td>0.0015</td>\n      <td>1.005</td>\n    </tr>\n    <tr>\n      <th>Liczba kręgów</th>\n      <td>9.934</td>\n      <td>3.224</td>\n      <td>9.000</td>\n      <td>1</td>\n      <td>29</td>\n    </tr>\n  </tbody>\n</table>\n</div>"
     },
     "metadata": {},
     "output_type": "display_data"
    }
   ]
  },
  {
   "cell_type": "code",
   "execution_count": 21,
   "outputs": [],
   "source": "\n",
   "metadata": {
    "pycharm": {
     "metadata": false,
     "name": "#%%\n",
     "is_executing": false
    }
   }
  }
 ],
 "metadata": {
  "language_info": {
   "codemirror_mode": {
    "name": "ipython",
    "version": 2
   },
   "file_extension": ".py",
   "mimetype": "text/x-python",
   "name": "python",
   "nbconvert_exporter": "python",
   "pygments_lexer": "ipython2",
   "version": "2.7.6"
  },
  "kernelspec": {
   "name": "python3",
   "language": "python",
   "display_name": "Python 3"
  },
  "stem_cell": {
   "cell_type": "raw",
   "source": "",
   "metadata": {
    "pycharm": {
     "metadata": false
    }
   }
  },
  "pycharm": {
   "stem_cell": {
    "cell_type": "raw",
    "source": [],
    "metadata": {
     "collapsed": false
    }
   }
  }
 },
 "nbformat": 4,
 "nbformat_minor": 0
}