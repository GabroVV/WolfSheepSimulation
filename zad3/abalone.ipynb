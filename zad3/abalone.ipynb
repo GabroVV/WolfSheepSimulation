{
  "cells": [
    {
      "cell_type": "markdown",
      "source": "## Zadanie 3 - analiza statystyczna dla zbioru danych abalone\n**Gabriel Nowak 216848  \nSzymon Rutkowski**",
      "metadata": {
        "pycharm": {
          "metadata": false
        }
      }
    },
    {
      "cell_type": "code",
      "execution_count": 17,
      "outputs": [],
      "source": "import pandas as pd\nfrom IPython.display import display, HTML\nparamnames\u003d[\u0027Płeć\u0027, \u0027Długość\u0027, \u0027Średnica\u0027, \u0027Wysokość\u0027, \u0027Masa całości\u0027, \u0027Masa mięsa\u0027\n        , \u0027Masa wnętrzności\u0027,\u0027Masa skorupy\u0027, \u0027Kręgi\u0027]\nquantitativeData \u003d pd.read_csv(\u0027abalone.data\u0027,names\u003dparamnames, delimiter\u003d\u0027,\u0027)\nqualitativeData \u003d pd.DataFrame()\nqualitativeData[\u0027Płeć\u0027] \u003d quantitativeData[\u0027Płeć\u0027]\nqualitativeData[\u0027Kręgi\u0027] \u003d quantitativeData[\u0027Kręgi\u0027]\n\nquantitativeData \u003d quantitativeData.drop(\u0027Płeć\u0027,1)\nquantitativeData \u003d quantitativeData.drop(\u0027Kręgi\u0027,1)\n",
      "metadata": {
        "pycharm": {
          "metadata": false,
          "name": "#%%\n",
          "is_executing": false
        }
      }
    },
    {
      "cell_type": "markdown",
      "source": "",
      "metadata": {
        "pycharm": {
          "metadata": false,
          "name": "#%% md\n"
        }
      }
    },
    {
      "cell_type": "code",
      "source": "import pandas as pd\n\ndataframe \u003d pd.DataFrame(quantitativeData.mean(), columns\u003d[\u0027Długość\u0027])\ndisplay(HTML(dataframe.to_html()))\n",
      "metadata": {
        "pycharm": {
          "metadata": false,
          "name": "#%%\n",
          "is_executing": false
        }
      },
      "execution_count": 21,
      "outputs": [
        {
          "data": {
            "text/plain": "\u003cIPython.core.display.HTML object\u003e",
            "text/html": "\u003ctable border\u003d\"1\" class\u003d\"dataframe\"\u003e\n  \u003cthead\u003e\n    \u003ctr style\u003d\"text-align: right;\"\u003e\n      \u003cth\u003e\u003c/th\u003e\n      \u003cth\u003eDługość\u003c/th\u003e\n    \u003c/tr\u003e\n  \u003c/thead\u003e\n  \u003ctbody\u003e\n    \u003ctr\u003e\n      \u003cth\u003eDługość\u003c/th\u003e\n      \u003ctd\u003e0.523992\u003c/td\u003e\n    \u003c/tr\u003e\n    \u003ctr\u003e\n      \u003cth\u003eŚrednica\u003c/th\u003e\n      \u003ctd\u003e0.407881\u003c/td\u003e\n    \u003c/tr\u003e\n    \u003ctr\u003e\n      \u003cth\u003eWysokość\u003c/th\u003e\n      \u003ctd\u003e0.139516\u003c/td\u003e\n    \u003c/tr\u003e\n    \u003ctr\u003e\n      \u003cth\u003eMasa całości\u003c/th\u003e\n      \u003ctd\u003e0.828742\u003c/td\u003e\n    \u003c/tr\u003e\n    \u003ctr\u003e\n      \u003cth\u003eMasa mięsa\u003c/th\u003e\n      \u003ctd\u003e0.359367\u003c/td\u003e\n    \u003c/tr\u003e\n    \u003ctr\u003e\n      \u003cth\u003eMasa wnętrzności\u003c/th\u003e\n      \u003ctd\u003e0.180594\u003c/td\u003e\n    \u003c/tr\u003e\n    \u003ctr\u003e\n      \u003cth\u003eMasa skorupy\u003c/th\u003e\n      \u003ctd\u003e0.238831\u003c/td\u003e\n    \u003c/tr\u003e\n  \u003c/tbody\u003e\n\u003c/table\u003e"
          },
          "metadata": {},
          "output_type": "display_data"
        }
      ]
    },
    {
      "cell_type": "code",
      "execution_count": 21,
      "outputs": [],
      "source": "\n",
      "metadata": {
        "pycharm": {
          "metadata": false,
          "name": "#%%\n",
          "is_executing": false
        }
      }
    }
  ],
  "metadata": {
    "language_info": {
      "codemirror_mode": {
        "name": "ipython",
        "version": 2
      },
      "file_extension": ".py",
      "mimetype": "text/x-python",
      "name": "python",
      "nbconvert_exporter": "python",
      "pygments_lexer": "ipython2",
      "version": "2.7.6"
    },
    "kernelspec": {
      "name": "python3",
      "language": "python",
      "display_name": "Python 3"
    },
    "stem_cell": {
      "cell_type": "raw",
      "source": "",
      "metadata": {
        "pycharm": {
          "metadata": false
        }
      }
    }
  },
  "nbformat": 4,
  "nbformat_minor": 0
}