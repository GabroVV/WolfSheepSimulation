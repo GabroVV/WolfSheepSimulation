{
  "cells": [
    {
      "cell_type": "markdown",
      "source": "## Zadanie 3 - analiza statystyczna dla zbioru danych abalone\n**Gabriel Nowak 216848  \nSzymon Rutkowski**",
      "metadata": {
        "pycharm": {
          "metadata": false
        }
      }
    },
    {
      "cell_type": "code",
      "execution_count": 41,
      "outputs": [],
      "source": "import pandas as pd\nfrom IPython.display import display, HTML\nparamnames\u003d[\u0027Płeć\u0027, \u0027Długość [mm]\u0027, \u0027Średnica [mm]\u0027, \u0027Wysokość [mm]\u0027, \u0027Masa całości [g]\u0027, \u0027Masa mięsa [g]\u0027\n        , \u0027Masa wnętrzności [g]\u0027,\u0027Masa skorupy [g]\u0027, \u0027Liczba kręgów\u0027]\nquantitativeData \u003d pd.read_csv(\u0027abalone.data\u0027,names\u003dparamnames, delimiter\u003d\u0027,\u0027)\nqualitativeData \u003d pd.DataFrame()\nqualitativeData[\u0027Płeć\u0027] \u003d quantitativeData[\u0027Płeć\u0027]\nquantitativeData \u003d quantitativeData.drop(\u0027Płeć\u0027,1)\n",
      "metadata": {
        "pycharm": {
          "metadata": false,
          "name": "#%%\n",
          "is_executing": false
        }
      }
    },
    {
      "cell_type": "markdown",
      "source": "**Tabela miar statystycznych dla cech ilościowych**",
      "metadata": {
        "pycharm": {
          "metadata": false,
          "name": "#%% md\n"
        }
      }
    },
    {
      "cell_type": "code",
      "source": "dataframe \u003d pd.DataFrame(quantitativeData.mean().round(3), columns\u003d[\u0027Średnia\u0027])\ndataframe[\u0027Odchylenie standardowe\u0027] \u003d quantitativeData.std().round(3)\ndataframe[\u0027Mediana\u0027] \u003d quantitativeData.median().round(3)\ndataframe[\u0027Minimum\u0027] \u003d quantitativeData.min().round(5).astype(object)\ndataframe[\u0027Maksimum\u0027] \u003d quantitativeData.max().round(decimals\u003d3).astype(object)\ndisplay(dataframe)",
      "metadata": {
        "pycharm": {
          "metadata": false,
          "name": "#%%\n",
          "is_executing": false
        }
      },
      "execution_count": 54,
      "outputs": [
        {
          "data": {
            "text/plain": "                      Średnia  Odchylenie standardowe  Mediana Minimum  \\\nDługość [mm]            0.524                   0.120    0.545   0.075   \nŚrednica [mm]           0.408                   0.099    0.425   0.055   \nWysokość [mm]           0.140                   0.042    0.140       0   \nMasa całości [g]        0.829                   0.490    0.800   0.002   \nMasa mięsa [g]          0.359                   0.222    0.336   0.001   \nMasa wnętrzności [g]    0.181                   0.110    0.171  0.0005   \nMasa skorupy [g]        0.239                   0.139    0.234  0.0015   \nLiczba kręgów           9.934                   3.224    9.000       1   \n\n                     Maksimum  \nDługość [mm]            0.815  \nŚrednica [mm]            0.65  \nWysokość [mm]            1.13  \nMasa całości [g]        2.826  \nMasa mięsa [g]          1.488  \nMasa wnętrzności [g]     0.76  \nMasa skorupy [g]        1.005  \nLiczba kręgów              29  ",
            "text/html": "\u003cdiv\u003e\n\u003cstyle scoped\u003e\n    .dataframe tbody tr th:only-of-type {\n        vertical-align: middle;\n    }\n\n    .dataframe tbody tr th {\n        vertical-align: top;\n    }\n\n    .dataframe thead th {\n        text-align: right;\n    }\n\u003c/style\u003e\n\u003ctable border\u003d\"1\" class\u003d\"dataframe\"\u003e\n  \u003cthead\u003e\n    \u003ctr style\u003d\"text-align: right;\"\u003e\n      \u003cth\u003e\u003c/th\u003e\n      \u003cth\u003eŚrednia\u003c/th\u003e\n      \u003cth\u003eOdchylenie standardowe\u003c/th\u003e\n      \u003cth\u003eMediana\u003c/th\u003e\n      \u003cth\u003eMinimum\u003c/th\u003e\n      \u003cth\u003eMaksimum\u003c/th\u003e\n    \u003c/tr\u003e\n  \u003c/thead\u003e\n  \u003ctbody\u003e\n    \u003ctr\u003e\n      \u003cth\u003eDługość [mm]\u003c/th\u003e\n      \u003ctd\u003e0.524\u003c/td\u003e\n      \u003ctd\u003e0.120\u003c/td\u003e\n      \u003ctd\u003e0.545\u003c/td\u003e\n      \u003ctd\u003e0.075\u003c/td\u003e\n      \u003ctd\u003e0.815\u003c/td\u003e\n    \u003c/tr\u003e\n    \u003ctr\u003e\n      \u003cth\u003eŚrednica [mm]\u003c/th\u003e\n      \u003ctd\u003e0.408\u003c/td\u003e\n      \u003ctd\u003e0.099\u003c/td\u003e\n      \u003ctd\u003e0.425\u003c/td\u003e\n      \u003ctd\u003e0.055\u003c/td\u003e\n      \u003ctd\u003e0.65\u003c/td\u003e\n    \u003c/tr\u003e\n    \u003ctr\u003e\n      \u003cth\u003eWysokość [mm]\u003c/th\u003e\n      \u003ctd\u003e0.140\u003c/td\u003e\n      \u003ctd\u003e0.042\u003c/td\u003e\n      \u003ctd\u003e0.140\u003c/td\u003e\n      \u003ctd\u003e0\u003c/td\u003e\n      \u003ctd\u003e1.13\u003c/td\u003e\n    \u003c/tr\u003e\n    \u003ctr\u003e\n      \u003cth\u003eMasa całości [g]\u003c/th\u003e\n      \u003ctd\u003e0.829\u003c/td\u003e\n      \u003ctd\u003e0.490\u003c/td\u003e\n      \u003ctd\u003e0.800\u003c/td\u003e\n      \u003ctd\u003e0.002\u003c/td\u003e\n      \u003ctd\u003e2.826\u003c/td\u003e\n    \u003c/tr\u003e\n    \u003ctr\u003e\n      \u003cth\u003eMasa mięsa [g]\u003c/th\u003e\n      \u003ctd\u003e0.359\u003c/td\u003e\n      \u003ctd\u003e0.222\u003c/td\u003e\n      \u003ctd\u003e0.336\u003c/td\u003e\n      \u003ctd\u003e0.001\u003c/td\u003e\n      \u003ctd\u003e1.488\u003c/td\u003e\n    \u003c/tr\u003e\n    \u003ctr\u003e\n      \u003cth\u003eMasa wnętrzności [g]\u003c/th\u003e\n      \u003ctd\u003e0.181\u003c/td\u003e\n      \u003ctd\u003e0.110\u003c/td\u003e\n      \u003ctd\u003e0.171\u003c/td\u003e\n      \u003ctd\u003e0.0005\u003c/td\u003e\n      \u003ctd\u003e0.76\u003c/td\u003e\n    \u003c/tr\u003e\n    \u003ctr\u003e\n      \u003cth\u003eMasa skorupy [g]\u003c/th\u003e\n      \u003ctd\u003e0.239\u003c/td\u003e\n      \u003ctd\u003e0.139\u003c/td\u003e\n      \u003ctd\u003e0.234\u003c/td\u003e\n      \u003ctd\u003e0.0015\u003c/td\u003e\n      \u003ctd\u003e1.005\u003c/td\u003e\n    \u003c/tr\u003e\n    \u003ctr\u003e\n      \u003cth\u003eLiczba kręgów\u003c/th\u003e\n      \u003ctd\u003e9.934\u003c/td\u003e\n      \u003ctd\u003e3.224\u003c/td\u003e\n      \u003ctd\u003e9.000\u003c/td\u003e\n      \u003ctd\u003e1\u003c/td\u003e\n      \u003ctd\u003e29\u003c/td\u003e\n    \u003c/tr\u003e\n  \u003c/tbody\u003e\n\u003c/table\u003e\n\u003c/div\u003e"
          },
          "metadata": {},
          "output_type": "display_data"
        }
      ]
    },
    {
      "cell_type": "code",
      "execution_count": 21,
      "outputs": [],
      "source": "\n",
      "metadata": {
        "pycharm": {
          "metadata": false,
          "name": "#%%\n",
          "is_executing": false
        }
      }
    }
  ],
  "metadata": {
    "language_info": {
      "codemirror_mode": {
        "name": "ipython",
        "version": 2
      },
      "file_extension": ".py",
      "mimetype": "text/x-python",
      "name": "python",
      "nbconvert_exporter": "python",
      "pygments_lexer": "ipython2",
      "version": "2.7.6"
    },
    "kernelspec": {
      "name": "python3",
      "language": "python",
      "display_name": "Python 3"
    },
    "stem_cell": {
      "cell_type": "raw",
      "source": "",
      "metadata": {
        "pycharm": {
          "metadata": false
        }
      }
    }
  },
  "nbformat": 4,
  "nbformat_minor": 0
}